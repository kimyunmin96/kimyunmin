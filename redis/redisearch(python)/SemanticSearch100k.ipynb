{
 "cells": [
  {
   "cell_type": "code",
   "execution_count": 1,
   "id": "fe5cea5e-9bfc-469a-ae51-5bbf21c5df33",
   "metadata": {},
   "outputs": [],
   "source": [
    "import random\n",
    "import numpy as np\n",
    "import pandas as pd\n",
    "import time\n",
    "from redis import Redis\n",
    "from redis.commands.search.field import VectorField\n",
    "from redis.commands.search.field import TextField\n",
    "from redis.commands.search.field import TagField\n",
    "from redis.commands.search.query import Query\n",
    "from redis.commands.search.result import Result\n",
    "import collections\n",
    "\n",
    "class color:\n",
    "   PURPLE = '\\033[95m'\n",
    "   CYAN = '\\033[96m'\n",
    "   DARKCYAN = '\\033[36m'\n",
    "   BLUE = '\\033[94m'\n",
    "   GREEN = '\\033[92m'\n",
    "   YELLOW = '\\033[93m'\n",
    "   RED = '\\033[91m'\n",
    "   BOLD = '\\033[1m'\n",
    "   UNDERLINE = '\\033[4m'\n",
    "   END = '\\033[0m'\n"
   ]
  },
  {
   "cell_type": "markdown",
   "id": "ba969e44-d988-43bd-9953-73bdc3c19a1c",
   "metadata": {
    "tags": []
   },
   "source": [
    "# Load Amazon Product Data\n",
    "\n",
    "Truncate text selected fields on load.  \n",
    "\n",
    "The Max Length supported by the pre-trained sentence embedding generator is 512"
   ]
  },
  {
   "cell_type": "code",
   "execution_count": 2,
   "id": "dc187a4a-ef97-41fc-92c7-d0c34eb5ada0",
   "metadata": {},
   "outputs": [],
   "source": [
    "MAX_TEXT_LENGTH=512\n",
    "NUMBER_PRODUCTS=100000\n",
    "\n",
    "def auto_truncate(val):\n",
    "    return val[:MAX_TEXT_LENGTH]\n",
    "\n",
    "#Load Product data and truncate long text fields\n",
    "all_prods_df = pd.read_csv(\"data/product_data.csv\", converters={'bullet_point': auto_truncate,'item_keywords':auto_truncate,'item_name':auto_truncate})\n",
    "all_prods_df['primary_key'] = all_prods_df['item_id'] + '-' + all_prods_df['domain_name']\n",
    "all_prods_df['item_keywords'].replace('', np.nan, inplace=True)\n",
    "all_prods_df.dropna(subset=['item_keywords'], inplace=True)\n",
    "all_prods_df.reset_index(drop=True,inplace=True)\n",
    "\n",
    "#get the first 1000 products with non-empty item keywords\n",
    "product_metadata = all_prods_df.head(NUMBER_PRODUCTS).to_dict(orient='index')\n",
    "product_metadata = collections.OrderedDict(product_metadata)\n",
    "\n"
   ]
  },
  {
   "cell_type": "code",
   "execution_count": 3,
   "id": "50c78cdd-49f6-40da-a391-eeb1d2af8139",
   "metadata": {},
   "outputs": [
    {
     "data": {
      "text/plain": [
       "100000"
      ]
     },
     "execution_count": 3,
     "metadata": {},
     "output_type": "execute_result"
    }
   ],
   "source": [
    "len(product_metadata.keys())"
   ]
  },
  {
   "cell_type": "markdown",
   "id": "b2261b86-598b-4ab4-be93-e58f34aff3dd",
   "metadata": {
    "tags": []
   },
   "source": [
    "# Connect to Redis"
   ]
  },
  {
   "cell_type": "code",
   "execution_count": 10,
   "id": "ef37492f-3360-4cd5-8dd2-23ccdd2b9042",
   "metadata": {},
   "outputs": [
    {
     "name": "stdout",
     "output_type": "stream",
     "text": [
      "Connected to redis\n"
     ]
    }
   ],
   "source": [
    "host = '127.0.0.1'\n",
    "port = 7001\n",
    "redis_conn = Redis(host = host, port = port)\n",
    "print ('Connected to redis')"
   ]
  },
  {
   "cell_type": "markdown",
   "id": "fde0ad07-363e-4414-8684-bbf6c1d13409",
   "metadata": {
    "tags": []
   },
   "source": [
    "# Load Previously Created Embeddings\n",
    "\n",
    "Let's load the vector embeddings for the first 100k products in the dataset.\n",
    "\n",
    "These embeddings were generated usign a pre-trained sentence embedding model\n",
    "https://huggingface.co/sentence-transformers/all-distilroberta-v1"
   ]
  },
  {
   "cell_type": "code",
   "execution_count": 11,
   "id": "f0a9c0b9-9f7b-4bfa-aca1-f8d41c463a7c",
   "metadata": {},
   "outputs": [
    {
     "name": "stdout",
     "output_type": "stream",
     "text": [
      "CPU times: user 38.7 ms, sys: 185 ms, total: 223 ms\n",
      "Wall time: 1.29 s\n"
     ]
    }
   ],
   "source": [
    "%%time\n",
    "with open('./100k-item-keyword-vectors.npy', 'rb') as f:\n",
    "    item_keywords_vectors = np.load('./100k-item-keyword-vectors.npy')"
   ]
  },
  {
   "cell_type": "markdown",
   "id": "725b2488-b922-4de9-87ba-94c2b1bc70ab",
   "metadata": {},
   "source": [
    "# Get Sentence Transformer model\n",
    "\n",
    "It will be needed later to generate vectors for end user queries"
   ]
  },
  {
   "cell_type": "code",
   "execution_count": 2,
   "id": "1dbf1ccf-1d3a-4f8b-9457-a9fb648859dc",
   "metadata": {},
   "outputs": [
    {
     "name": "stderr",
     "output_type": "stream",
     "text": [
      "/home/yunmin/.local/lib/python3.8/site-packages/tqdm/auto.py:22: TqdmWarning: IProgress not found. Please update jupyter and ipywidgets. See https://ipywidgets.readthedocs.io/en/stable/user_install.html\n",
      "  from .autonotebook import tqdm as notebook_tqdm\n"
     ]
    }
   ],
   "source": [
    "from sentence_transformers import SentenceTransformer\n",
    "model = SentenceTransformer('sentence-transformers/all-distilroberta-v1')"
   ]
  },
  {
   "cell_type": "markdown",
   "id": "dbc7f4d2-1c1a-4847-bf6d-b08610b30c01",
   "metadata": {
    "tags": []
   },
   "source": [
    "# Utility Functions to Load Product Data\n",
    "Each product will be stored in a redis hash\n",
    "* **Hash Key** = **key='product:index+:primary_key'**\n"
   ]
  },
  {
   "cell_type": "code",
   "execution_count": 4,
   "id": "e86b393b-2273-4f26-8779-73896b43c1f9",
   "metadata": {},
   "outputs": [],
   "source": [
    "import itertools\n",
    "\n",
    "def chunk(it, size):\n",
    "    it = iter(it)\n",
    "    while True:\n",
    "        p = dict(itertools.islice(it, size))\n",
    "        if not p:\n",
    "            break\n",
    "        yield p\n",
    "\n",
    "\n",
    "def load_vectors(client:Redis, product_metadata, vector_dict, vector_field_name):\n",
    "    i=0\n",
    "    for batch in chunk(product_metadata.items(), 10000):\n",
    "        #process batch \n",
    "        print (f'processing batch {i}')\n",
    "        p = client.pipeline(transaction=False)\n",
    "        for key in batch.keys():    \n",
    "            #hash key\n",
    "            hashkey='product:'+ str(key)+ ':' + batch[key]['primary_key']\n",
    "\n",
    "            #hash values\n",
    "            item_metadata = batch[key]\n",
    "            item_keywords_vector = vector_dict[key].astype(np.float32).tobytes()\n",
    "            item_metadata[vector_field_name]=item_keywords_vector\n",
    "\n",
    "            # HSET\n",
    "            p.hset(hashkey,mapping=item_metadata)\n",
    "\n",
    "        p.execute()\n",
    "        i+=1"
   ]
  },
  {
   "cell_type": "markdown",
   "id": "5607848c-ce11-44d2-892f-1ffb4778f405",
   "metadata": {},
   "source": [
    "# Utility Functions to Create Indexes on Vector field"
   ]
  },
  {
   "cell_type": "code",
   "execution_count": 5,
   "id": "54a6d4e3-b15d-499e-864d-c420fe140810",
   "metadata": {},
   "outputs": [],
   "source": [
    "def create_flat_index (redis_conn,vector_field_name,number_of_vectors, vector_dimensions=512, distance_metric='L2'):\n",
    "    redis_conn.ft().create_index([\n",
    "        VectorField(vector_field_name, \"FLAT\", {\"TYPE\": \"FLOAT32\", \"DIM\": vector_dimensions, \"DISTANCE_METRIC\": distance_metric, \"INITIAL_CAP\": number_of_vectors, \"BLOCK_SIZE\":number_of_vectors }),\n",
    "        TagField(\"product_type\"),\n",
    "        TextField(\"item_name\"),\n",
    "        TextField(\"item_keywords\"),\n",
    "        TagField(\"country\")        \n",
    "    ])\n",
    "\n",
    "def create_hnsw_index (redis_conn,vector_field_name,number_of_vectors, vector_dimensions=512, distance_metric='L2',M=40,EF=200):\n",
    "    redis_conn.ft().create_index([\n",
    "        VectorField(vector_field_name, \"HNSW\", {\"TYPE\": \"FLOAT32\", \"DIM\": vector_dimensions, \"DISTANCE_METRIC\": distance_metric, \"INITIAL_CAP\": number_of_vectors, \"M\": M, \"EF_CONSTRUCTION\": EF}),\n",
    "        TagField(\"product_type\"),\n",
    "        TextField(\"item_keywords\"),        \n",
    "        TextField(\"item_name\"),\n",
    "        TagField(\"country\")     \n",
    "    ])    "
   ]
  },
  {
   "cell_type": "markdown",
   "id": "7ab8085f-b70b-4e8f-831a-21a78d7273a1",
   "metadata": {
    "tags": []
   },
   "source": [
    "# FLAT - Load and Index Product Data\n",
    "Let's create an index for the image vectors and load information for 100,000 products\n",
    "\n",
    "**This might take 1-2 minutes**\n",
    "\n",
    "A FLAT index is used to perform an exact nearest neighbors search. \n",
    "\n",
    "A query vector will be compared against all other image vectors in the database"
   ]
  },
  {
   "cell_type": "code",
   "execution_count": 7,
   "id": "bc239c01",
   "metadata": {},
   "outputs": [],
   "source": [
    "from redis.cluster import RedisCluster as Redis\n",
    "from redis.cluster import ClusterNode\n",
    "nodes = [ClusterNode('127.0.0.1', 7001), ClusterNode('127.0.0.1', 7002), ClusterNode('127.0.0.1', 7003)]\n",
    "\n",
    "redis_conn = Redis(startup_nodes=nodes)\n",
    "ITEM_KEYWORD_EMBEDDING_FIELD='item_keyword_vector'"
   ]
  },
  {
   "cell_type": "code",
   "execution_count": 18,
   "id": "71a27ca3-5ce0-4174-aac1-86ffa6224070",
   "metadata": {},
   "outputs": [
    {
     "name": "stdout",
     "output_type": "stream",
     "text": [
      "Loading and Indexing 100000 products...\n",
      "processing batch 0\n",
      "processing batch 1\n"
     ]
    }
   ],
   "source": [
    "%%time\n",
    "\n",
    "ITEM_KEYWORD_EMBEDDING_FIELD='item_keyword_vector'\n",
    "TEXT_EMBEDDING_DIMENSION=768\n",
    "NUMBER_PRODUCTS=100000\n",
    "\n",
    "\n",
    "#flush all data\n",
    "redis_conn.flushall()\n",
    "\n",
    "print ('Loading and Indexing ' +  str(NUMBER_PRODUCTS) + ' products...')\n",
    "\n",
    "#create flat index & load vectors\n",
    "create_flat_index(redis_conn, ITEM_KEYWORD_EMBEDDING_FIELD,NUMBER_PRODUCTS,TEXT_EMBEDDING_DIMENSION,'COSINE')\n",
    "load_vectors(redis_conn,product_metadata,item_keywords_vectors,ITEM_KEYWORD_EMBEDDING_FIELD)"
   ]
  },
  {
   "cell_type": "markdown",
   "id": "bcdd5a01-5736-4081-b3e4-1551bbb9bd0f",
   "metadata": {},
   "source": [
    "# FLAT index - FIND The Top K MOST SEMANTICALLY Similar Products\n",
    "Let's use the brute-force index to find the exact top k nearest neighbors of a given text query\n",
    "\n",
    "Check the output for 2 very different queries:\n",
    "* **Query 1** = 'beautifully crafted gems for her. a special occasion'\n",
    "* **Query 2** = 'Ultra modern cool way to pimp up my phone'\n",
    "\n",
    "Feel free to experiment with other text queries to match against the item keyword data.\n",
    "\n",
    "\n",
    "\n",
    "\n",
    "\n",
    "\n",
    "\n"
   ]
  },
  {
   "cell_type": "code",
   "execution_count": null,
   "id": "7370b56a-1cd2-400b-9b97-ecc6750992ed",
   "metadata": {},
   "outputs": [],
   "source": [
    "%%time\n",
    "topK=5\n",
    "product_query='beautifully crafted gems for her. a special occasion'\n",
    "#product_query='cool way to pimp up my cell'\n",
    "\n",
    "#vectorize the query\n",
    "query_vector = model.encode(product_query).astype(np.float32).tobytes()\n",
    "\n",
    "#prepare the query\n",
    "q = Query(f'*=>[KNN {topK} @{ITEM_KEYWORD_EMBEDDING_FIELD} $vec_param AS vector_score]').sort_by('vector_score').paging(0,topK).return_fields('vector_score','item_name','item_id','item_keywords','country').dialect(2)\n",
    "params_dict = {\"vec_param\": query_vector}\n",
    "\n",
    "\n",
    "#Execute the query\n",
    "results = redis_conn.ft().search(q, query_params = params_dict)\n",
    "\n",
    "#Print similar products found\n",
    "for product in results.docs:\n",
    "    print ('***************Product  found ************')\n",
    "    print (color.BOLD + 'hash key = ' +  color.END + product.id)\n",
    "    print (color.YELLOW + 'Item Name = ' +  color.END  + product.item_name)\n",
    "    print (color.YELLOW + 'Item Id = ' +  color.END  + product.item_id)\n",
    "    print (color.YELLOW + 'Item keywords = ' +  color.END  + product.item_keywords)\n",
    "    print (color.YELLOW + 'Country = ' +  color.END  + product.country)\n",
    "    print (color.YELLOW + 'Score = ' +  color.END  + product.vector_score)\n"
   ]
  },
  {
   "cell_type": "markdown",
   "id": "3e748638-50be-4e4f-b953-a87b5fdea311",
   "metadata": {},
   "source": [
    "# HNSW - Load and Index Product Data\n",
    "Let's try indexing with an HNSW index.\n",
    "This index is used to calculate Top K Approximate Nearest Neighbors of a given vector\n",
    "\n",
    "**This might take 1-3 minutes**"
   ]
  },
  {
   "cell_type": "code",
   "execution_count": null,
   "id": "551253af-d833-44b3-97dc-4c0e8dd4ba14",
   "metadata": {},
   "outputs": [],
   "source": [
    "%%time\n",
    "print ('Loading and Indexing + ' +  str(NUMBER_PRODUCTS) + ' products...')\n",
    "\n",
    "ITEM_KEYWORD_EMBEDDING_FIELD='item_keyword_vector'\n",
    "TEXT_EMBEDDING_DIMENSION=768\n",
    "NUMBER_PRODUCTS=100000\n",
    "\n",
    "\n",
    "#flush all data\n",
    "redis_conn.flushall()\n",
    "\n",
    "#create flat index & load vectors\n",
    "create_hnsw_index(redis_conn, ITEM_KEYWORD_EMBEDDING_FIELD,NUMBER_PRODUCTS,TEXT_EMBEDDING_DIMENSION,'COSINE',M=40,EF=200)\n",
    "load_vectors(redis_conn,product_metadata,item_keywords_vectors,ITEM_KEYWORD_EMBEDDING_FIELD)\n"
   ]
  },
  {
   "cell_type": "markdown",
   "id": "ff708fb3-2926-4201-ab18-d1a6193f569b",
   "metadata": {},
   "source": [
    "# HNSW - Query The Top 5 semantically Similar Products\n",
    "Let's repeat the similarity search but this time using the HNSW index\n",
    "\n",
    "Check the output for 2 very different queries:\n",
    "* **Query 1** = 'beautifully crafted gem for her. a special occasion'\n",
    "* **Query 2** = 'Ultra modern cool way to pimp up my cell'\n",
    "\n"
   ]
  },
  {
   "cell_type": "code",
   "execution_count": 8,
   "id": "3eeb687a-2f75-458f-b75c-0a10057a163d",
   "metadata": {},
   "outputs": [
    {
     "name": "stdout",
     "output_type": "stream",
     "text": [
      "***************Product  found ************\n",
      "\u001b[1mhash key = \u001b[0mproduct:7840:B00H5EN4UM-amazon.com\n",
      "\u001b[93mItem Name = \u001b[0mSterling Silver Heart-Tag Bracelet, 7.5\"\n",
      "\u001b[93mItem Id = \u001b[0mB00H5EN4UM\n",
      "\u001b[93mItem keywords = \u001b[0mHearts Love Jewelry Valentine's Day Jewelry Tiffany Bracelet Classic silver bracelet with heart charm Basic heart silver bracelet Silver bracelet jewelry gift jewelry present Christmas present Christmas gift birthday gift birthday present Mother's Day girlfriend gift girlfriend present mother gift mother present sister gift sister present family gift family present valentines day gifts for her^valentines day jewelry^valentines day^love^gifts for women^valentine jewelry^valentines jewelry^gifts for her Heart\n",
      "\u001b[93mCountry = \u001b[0mUS\n",
      "\u001b[93mScore = \u001b[0m0.558027505875\n",
      "***************Product  found ************\n",
      "\u001b[1mhash key = \u001b[0mproduct:4620:B013WW3Y3C-amazon.ca\n",
      "\u001b[93mItem Name = \u001b[0m10k Rose Gold Diamond Leaf Ring (1/12cttw, I-J Color, I2-I3 Clarity), Size 7\n",
      "\u001b[93mItem Id = \u001b[0mB013WW3Y3C\n",
      "\u001b[93mItem keywords = \u001b[0mWhimsical Diamond fashion ring^fine fashion^mothers day gifts^fashion jewelry^graduation gifts^Valentines Day Gift^Christmas Gift^holiday gift^special occasion^amazon curated collection jewelry gifts^Anniversary Gift^modern^Birthday^Bridesmaid Gift^Bridal Fashion^Honeymoon gift^Push Present^Engagement gift^wedding gift^mother's day^mother's day gifts^mothers day^mothers day gifts^classic^classics^gift for her^sentiment^sentimental^everyday^leaf^nature^tree^garden^xpy^10k rose gold ring classics with a twist\n",
      "\u001b[93mCountry = \u001b[0mCA\n",
      "\u001b[93mScore = \u001b[0m0.568991780281\n",
      "***************Product  found ************\n",
      "\u001b[1mhash key = \u001b[0mproduct:597:B076ZYG35R-amazon.com\n",
      "\u001b[93mItem Name = \u001b[0mAmazon Brand - The Fix Women's Lizzie Block Heel Ruffled Sandal Heeled, Dove Suede, 9 B US\n",
      "\u001b[93mItem Id = \u001b[0mB076ZYG35R\n",
      "\u001b[93mItem keywords = \u001b[0mgifts her zapatos shoe ladies mujer womans designer spring summer date night dressy fancy high heels\n",
      "\u001b[93mCountry = \u001b[0mUS\n",
      "\u001b[93mScore = \u001b[0m0.581904888153\n",
      "***************Product  found ************\n",
      "\u001b[1mhash key = \u001b[0mproduct:9980:B01LYTFD0B-amazon.com\n",
      "\u001b[93mItem Name = \u001b[0m10K Rose Gold Cluster Heart Diamond Earrings (1/2cttw, I-J Color, I2-I3 Clarity)\n",
      "\u001b[93mItem Id = \u001b[0mB01LYTFD0B\n",
      "\u001b[93mItem keywords = \u001b[0mHearts gold earrings heart earrings diamond heart earrings drop earrings heart drop earrings cluster diamond cluster diamond earrings cluster diamond heart rose gold rose gold earrings valentines day gifts for her valentines day jewelry valentines day love gifts for women valentine jewelry valentines jewelry gifts for her gold earrings heart earrings diamond heart earrings drop earrings heart drop earrings cluster diamond cluster diamond earrings cluster diamond heart rose gold rose gold earrings valentines\n",
      "\u001b[93mCountry = \u001b[0mUS\n",
      "\u001b[93mScore = \u001b[0m0.593081831932\n",
      "***************Product  found ************\n",
      "\u001b[1mhash key = \u001b[0mproduct:7933:B01LYW929B-amazon.com\n",
      "\u001b[93mItem Name = \u001b[0mellie byrd 10k Gold Two Tone Initial \"G\" Disc Necklace, 18\"\n",
      "\u001b[93mItem Id = \u001b[0mB01LYW929B\n",
      "\u001b[93mItem keywords = \u001b[0mmonogram monagram monogrammed personal personalized initials alphabet letter layering necklace stacking necklace delicate necklace 10 karat gold 10 karat yellow gold 10 karat white gold two tone two-tone gold mother’s day mothers day mom’s day mother’s day gift best mother’s day gift mother's day gift ideas mother’s day jewelry graduation gift graduation present easter easter gift easter present gift gift for woman gifts for women gift for girl gifts for girls gift for tween gifts for tweens gifts for her r\n",
      "\u001b[93mCountry = \u001b[0mUS\n",
      "\u001b[93mScore = \u001b[0m0.593278467655\n",
      "CPU times: user 77.3 ms, sys: 11.9 ms, total: 89.1 ms\n",
      "Wall time: 500 ms\n"
     ]
    }
   ],
   "source": [
    "%%time\n",
    "topK=5\n",
    "product_query='beautifully crafted gem for her. a special occasion'\n",
    "#product_query='cool way to pimp up my cell'\n",
    "\n",
    "#vectorize the query\n",
    "query_vector = model.encode(product_query).astype(np.float32).tobytes()\n",
    "\n",
    "#prepare the query\n",
    "q = Query(f'*=>[KNN {topK} @{ITEM_KEYWORD_EMBEDDING_FIELD} $vec_param AS vector_score]').sort_by('vector_score').paging(0,topK).return_fields('vector_score','item_name','item_id','item_keywords','country').dialect(2)\n",
    "params_dict = {\"vec_param\": query_vector}\n",
    "\n",
    "\n",
    "#Execute the query\n",
    "results = redis_conn.ft().search(q, query_params = params_dict)\n",
    "\n",
    "#Print similar products found\n",
    "for product in results.docs:\n",
    "    print ('***************Product  found ************')\n",
    "    print (color.BOLD + 'hash key = ' +  color.END + product.id)\n",
    "    print (color.YELLOW + 'Item Name = ' +  color.END  + product.item_name)\n",
    "    print (color.YELLOW + 'Item Id = ' +  color.END  + product.item_id)\n",
    "    print (color.YELLOW + 'Item keywords = ' +  color.END  + product.item_keywords)\n",
    "    print (color.YELLOW + 'Country = ' +  color.END  + product.country)\n",
    "    print (color.YELLOW + 'Score = ' +  color.END  + product.vector_score)\n"
   ]
  },
  {
   "cell_type": "markdown",
   "id": "5069d2e0-13e9-4cec-b916-95c6dca8158a",
   "metadata": {},
   "source": [
    "# HNSW - Hybrid Query the top 5 most visually semantically products available ONLY in selected markets\n",
    "\n",
    "Let's repeat our Top 5 search but this time limit to products that meet the following criteria:\n",
    "* **Listed on** Amazon India (IN) \n",
    "\n",
    "\n",
    "This RediSearch query has this form:\n",
    "\n",
    "**(@country:{{DE|IN|IT}})=> [KNN 5 vector_field_name $query_vector EF_RUNTIME 10 AS vector_score])**\n",
    "\n"
   ]
  },
  {
   "cell_type": "code",
   "execution_count": 10,
   "id": "40389053-120f-4e97-95d8-e2352f21273f",
   "metadata": {},
   "outputs": [
    {
     "name": "stdout",
     "output_type": "stream",
     "text": [
      "***************Product  found ************\n",
      "\u001b[1mhash key = \u001b[0mproduct:5222:B0853WVGLG-amazon.in\n",
      "\u001b[93mItem Name = \u001b[0mAmazon Brand - Solimo Designer Little Princess Pattern 3D Printed Hard Back Case Mobile Cover for Realme C3\n",
      "\u001b[93mItem Id = \u001b[0mB0853WVGLG\n",
      "\u001b[93mItem keywords = \u001b[0mcellphonecover backcase mobileguard mobilecover cellphonecase phonecover case protectivecase cover backcover phoneguard mobilecase protectivecover phonecase Back Cover Designer Case Designer Little Princess Pattern Mobile Cover Hard Case Printed Cover Realme C3 Case cases and covers fashion case mobile cover polycarbonate cover Back Cover Designer Case Designer Little Princess Pattern Mobile Cover Hard Case Printed Cover Realme C3 Case cases and covers fashion case mobile cover polycarbonate cover Back Cove\n",
      "\u001b[93mScore = \u001b[0m0.84014415741\n",
      "\u001b[93mCountry = \u001b[0mIN\n",
      "***************Product  found ************\n",
      "\u001b[1mhash key = \u001b[0mproduct:1781:B0865T5LRM-amazon.in\n",
      "\u001b[93mItem Name = \u001b[0m(Renewed) AmazonBasics 18-Piece Dinnerware Set - White Embossed Porcelain\n",
      "\u001b[93mItem Id = \u001b[0mB0865T5LRM\n",
      "\u001b[93mItem keywords = \u001b[0m18-piece dinnerware set Dinnerware porcelain for everyday use Dinner set White Dinnerware White Dinnerset Dishwasher-safe, freezer-safe, and microwave-safe\n",
      "\u001b[93mScore = \u001b[0m0.836411237717\n",
      "\u001b[93mCountry = \u001b[0mIN\n",
      "***************Product  found ************\n",
      "\u001b[1mhash key = \u001b[0mproduct:7231:B07QGWPQ73-amazon.in\n",
      "\u001b[93mItem Name = \u001b[0mStone & Beam Canton King Button-Tufted Headboard, 80\" W, Charcoal\n",
      "\u001b[93mItem Id = \u001b[0mB07QGWPQ73\n",
      "\u001b[93mItem keywords = \u001b[0msmall mattress de pink crema poppy escritorio queen panels kid niñas boards desks girls lttle taupe youth platform monarch cal head computer split white para ajustable only hotel wingback bookcase kids farmhouse set escritorios seeds chair teen girl room bedroom bedrooms hill xl desk niños\n",
      "\u001b[93mScore = \u001b[0m0.82379668951\n",
      "\u001b[93mCountry = \u001b[0mIN\n",
      "***************Product  found ************\n",
      "\u001b[1mhash key = \u001b[0mproduct:8724:B07VX6BDRM-amazon.in\n",
      "\u001b[93mItem Name = \u001b[0mStone & Beam Fry Pan With Lid, 12 Inch, Tri-Ply Stainless Steel (Renewed)\n",
      "\u001b[93mItem Id = \u001b[0mB07VX6BDRM\n",
      "\u001b[93mItem keywords = \u001b[0mceramic skillets de pans woman cucina rachael allclad cuisinart titanium pots ware plate avacraft nordic molcajete non pioneer anodized dutch fal cast alclad tefal induction multiclad pot frying ha1 clearance saute stick cooking farmhouse set sets cookware 5 piece griddle iron lodge skillet\n",
      "\u001b[93mScore = \u001b[0m0.812606453896\n",
      "\u001b[93mCountry = \u001b[0mIN\n",
      "***************Product  found ************\n",
      "\u001b[1mhash key = \u001b[0mproduct:6415:B081ZKCGKR-amazon.in\n",
      "\u001b[93mItem Name = \u001b[0mAmazon Brand - Jam and Honey 12\" (26cm) Lash'z Fennec Fox\n",
      "\u001b[93mItem Id = \u001b[0mB081ZKCGKR\n",
      "\u001b[93mItem keywords = \u001b[0mstuffed fox fluffy toys gift for babies stuffed dolls plush toys soft toy valentine gift gifts birthday gift for kids toys stuffed toys for kids cute toys stuffed animal toys gift for girls stuffed fox fluffy toys gift for babies stuffed dolls plush toys soft toy valentine gift gifts birthday gift for kids toys stuffed toys for kids cute toys stuffed animal toys gift for girls stuffed fox fluffy toys gift for babies stuffed dolls plush toys soft toy valentine gift gifts birthday gift for kids toys stuffed t\n",
      "\u001b[93mScore = \u001b[0m0.811864078045\n",
      "\u001b[93mCountry = \u001b[0mIN\n",
      "CPU times: user 54.4 ms, sys: 8.89 ms, total: 63.3 ms\n",
      "Wall time: 543 ms\n"
     ]
    }
   ],
   "source": [
    "%%time\n",
    "topK=5\n",
    "product_query='beautifully crafted gem for her. a special occasion'\n",
    "#product_query='cool way to pimp up my cell'\n",
    "\n",
    "#vectorize the query\n",
    "query_vector = model.encode(product_query).astype(np.float32).tobytes()\n",
    "\n",
    "#prepare the query\n",
    "q = Query(f'(@country:{{IN}})=>[KNN {topK} @{ITEM_KEYWORD_EMBEDDING_FIELD} $vec_param AS vector_score]').sort_by('vector_score', asc=False).paging(0,topK).return_fields('vector_score','item_name','item_id','item_keywords','country').dialect(2)\n",
    "params_dict = {\"vec_param\": query_vector}\n",
    "\n",
    "\n",
    "#Execute the query\n",
    "results = redis_conn.ft().search(q, query_params = params_dict)\n",
    "\n",
    "#Print similar products found\n",
    "for product in results.docs:\n",
    "    print ('***************Product  found ************')\n",
    "    print (color.BOLD + 'hash key = ' +  color.END + product.id)\n",
    "    print (color.YELLOW + 'Item Name = ' +  color.END  + product.item_name)\n",
    "    print (color.YELLOW + 'Item Id = ' +  color.END  + product.item_id)\n",
    "    print (color.YELLOW + 'Item keywords = ' +  color.END  + product.item_keywords)\n",
    "    print (color.YELLOW + 'Score = ' +  color.END  + product.vector_score)\n",
    "    print (color.YELLOW + 'Country = ' +  color.END  + product.country)\n"
   ]
  },
  {
   "cell_type": "code",
   "execution_count": null,
   "id": "7bcc68c0-89c2-4f0b-834c-f3800cdebbbd",
   "metadata": {},
   "outputs": [],
   "source": []
  }
 ],
 "metadata": {
  "kernelspec": {
   "display_name": "Python 3",
   "language": "python",
   "name": "python3"
  },
  "language_info": {
   "codemirror_mode": {
    "name": "ipython",
    "version": 3
   },
   "file_extension": ".py",
   "mimetype": "text/x-python",
   "name": "python",
   "nbconvert_exporter": "python",
   "pygments_lexer": "ipython3",
   "version": "3.8.10"
  },
  "vscode": {
   "interpreter": {
    "hash": "916dbcbb3f70747c44a77c7bcd40155683ae19c65e1c03b4aa3499c5328201f1"
   }
  }
 },
 "nbformat": 4,
 "nbformat_minor": 5
}
